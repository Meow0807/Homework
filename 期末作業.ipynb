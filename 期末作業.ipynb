{
  "nbformat": 4,
  "nbformat_minor": 0,
  "metadata": {
    "colab": {
      "provenance": [],
      "authorship_tag": "ABX9TyNErQignG3gjWMQ6DW3mwxd",
      "include_colab_link": true
    },
    "kernelspec": {
      "name": "python3",
      "display_name": "Python 3"
    },
    "language_info": {
      "name": "python"
    }
  },
  "cells": [
    {
      "cell_type": "markdown",
      "metadata": {
        "id": "view-in-github",
        "colab_type": "text"
      },
      "source": [
        "<a href=\"https://colab.research.google.com/github/Meow0807/Homework/blob/main/%E6%9C%9F%E6%9C%AB%E4%BD%9C%E6%A5%AD.ipynb\" target=\"_parent\"><img src=\"https://colab.research.google.com/assets/colab-badge.svg\" alt=\"Open In Colab\"/></a>"
      ]
    },
    {
      "cell_type": "code",
      "execution_count": 1,
      "metadata": {
        "colab": {
          "base_uri": "https://localhost:8080/"
        },
        "id": "Y3lHeFWiqceu",
        "outputId": "0abf6ae9-68ee-4c2d-fd3c-53ed04e553d3"
      },
      "outputs": [
        {
          "output_type": "stream",
          "name": "stdout",
          "text": [
            "最便宜的旅遊方案：\n",
            "C\n",
            "A\n",
            "D\n",
            "E\n",
            "F\n",
            "G\n",
            "B\n",
            "總花費： 12420.0 元\n"
          ]
        }
      ],
      "source": [
        "import math\n",
        "\n",
        "class City:\n",
        "    def __init__(self, name, x, y, accommodation_cost):\n",
        "        self.name = name\n",
        "        self.x = x\n",
        "        self.y = y\n",
        "        self.accommodation_cost = accommodation_cost\n",
        "\n",
        "    def calculate_discounted_cost(self, prev_city):\n",
        "        if prev_city is None:\n",
        "            return self.accommodation_cost\n",
        "        else:\n",
        "            discount = 0.8 if prev_city.name in ['C', 'G'] and self.name in ['A', 'B'] else 1.0\n",
        "            return discount * self.accommodation_cost\n",
        "\n",
        "# 建立城市物件\n",
        "A = City('A', 0, 0, 2000)\n",
        "B = City('B', 0, 120, 2400)\n",
        "C = City('C', 30, 100, 2400)\n",
        "D = City('D', 80, 0, 1600)\n",
        "E = City('E', 45, 10, 1500)\n",
        "F = City('F', 90, 160, 2200)\n",
        "G = City('G', 120, 200, 1200)\n",
        "\n",
        "cities = [A, B, C, D, E, F, G]  # 所有城市的清單\n",
        "\n",
        "def calculate_distance(city1, city2):\n",
        "    return math.sqrt((city2.x - city1.x) ** 2 + (city2.y - city1.y) ** 2)\n",
        "\n",
        "def calculate_total_cost(path):\n",
        "    total_cost = 0\n",
        "    prev_city = None\n",
        "    for city in path:\n",
        "        total_cost += city.calculate_discounted_cost(prev_city)\n",
        "        prev_city = city\n",
        "    return total_cost\n",
        "\n",
        "# 計算所有可能的路徑\n",
        "all_paths = []\n",
        "def find_all_paths(current_path, remaining_cities):\n",
        "    if len(remaining_cities) == 0:\n",
        "        all_paths.append(current_path)\n",
        "    else:\n",
        "        for city in remaining_cities:\n",
        "            new_path = current_path + [city]\n",
        "            new_remaining_cities = remaining_cities.copy()\n",
        "            new_remaining_cities.remove(city)\n",
        "            find_all_paths(new_path, new_remaining_cities)\n",
        "\n",
        "find_all_paths([], cities)\n",
        "\n",
        "# 尋找最便宜的路徑\n",
        "cheapest_path = min(all_paths, key=calculate_total_cost)\n",
        "cheapest_cost = calculate_total_cost(cheapest_path)\n",
        "\n",
        "# 印出結果\n",
        "print(\"最便宜的旅遊方案：\")\n",
        "for city in cheapest_path:\n",
        "    print(city.name)\n",
        "print(\"總花費：\", cheapest_cost, \"元\")\n"
      ]
    }
  ]
}